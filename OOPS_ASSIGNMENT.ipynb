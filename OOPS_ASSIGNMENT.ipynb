{
  "nbformat": 4,
  "nbformat_minor": 0,
  "metadata": {
    "colab": {
      "provenance": []
    },
    "kernelspec": {
      "name": "python3",
      "display_name": "Python 3"
    },
    "language_info": {
      "name": "python"
    }
  },
  "cells": [
    {
      "cell_type": "markdown",
      "source": [
        "**OOPS ASSIGMENT**"
      ],
      "metadata": {
        "id": "HWOGEqTThWIn"
      }
    },
    {
      "cell_type": "markdown",
      "source": [
        "1. What is Object-Oriented Programming (OOP)."
      ],
      "metadata": {
        "id": "dWOgjcvshkgj"
      }
    },
    {
      "cell_type": "markdown",
      "source": [
        "- Object-oriented programming (OOP) is a programming paradigm that uses \"objects\" and their interactions to design applications and computer programs."
      ],
      "metadata": {
        "id": "4tN0S4XGiEQf"
      }
    },
    {
      "cell_type": "markdown",
      "source": [
        "2. What is a class in OOP."
      ],
      "metadata": {
        "id": "Fajtk2v0kksF"
      }
    },
    {
      "cell_type": "markdown",
      "source": [
        "- class is a user-defined data type that serves as a blueprint for creating objects."
      ],
      "metadata": {
        "id": "2VBVUOgGkqNx"
      }
    },
    {
      "cell_type": "markdown",
      "source": [
        "3. What is an object in OOP."
      ],
      "metadata": {
        "id": "RBKqxENVinsf"
      }
    },
    {
      "cell_type": "markdown",
      "source": [
        "-  object is a fundamental unit that represents a real-world entity or concept."
      ],
      "metadata": {
        "id": "G6Q0ducVlFRl"
      }
    },
    {
      "cell_type": "markdown",
      "source": [
        "4.  What is the difference between abstraction and encapsulation."
      ],
      "metadata": {
        "id": "E4_2Fb0HlgpV"
      }
    },
    {
      "cell_type": "markdown",
      "source": [
        "- Abstraction simplifies the user's view, while encapsulation ensures data is well-organized and secure."
      ],
      "metadata": {
        "id": "9VO-yvyfk8Jn"
      }
    },
    {
      "cell_type": "markdown",
      "source": [
        "5. What are dunder methods in Python."
      ],
      "metadata": {
        "id": "LIZN4_a3sKY2"
      }
    },
    {
      "cell_type": "markdown",
      "source": [
        "- Dunder method are special methods in Python that begin and end with double underscores (e.g., __init__, __str__, __len__). They provide a way to define how objects of a class should behave with built-in operators and functions. These methods enable operator overloading, allowing for customized behavior when using operators like +, -, *, ==."
      ],
      "metadata": {
        "id": "zhgIcOMpmGZ_"
      }
    },
    {
      "cell_type": "markdown",
      "source": [
        "6. Explain the concept of inheritance in OOP."
      ],
      "metadata": {
        "id": "_lKtibOllmKP"
      }
    },
    {
      "cell_type": "markdown",
      "source": [
        "- mechanism where a new class (child class or derived class) inherits attributes and methods from an existing class."
      ],
      "metadata": {
        "id": "oAYfMCSQsfSo"
      }
    },
    {
      "cell_type": "markdown",
      "source": [
        "7. What is polymorphism in OOP."
      ],
      "metadata": {
        "id": "Uv27qUdBsyxo"
      }
    },
    {
      "cell_type": "markdown",
      "source": [
        "- polymorphism means \"many forms.\" It allows objects of different classes to be treated as objects of a common superclass, enabling code reuse and flexibility."
      ],
      "metadata": {
        "id": "VAS_yfHWtH7U"
      }
    },
    {
      "cell_type": "markdown",
      "source": [
        "8. How is encapsulation achieved in Python."
      ],
      "metadata": {
        "id": "nsGoWpVztKPU"
      }
    },
    {
      "cell_type": "markdown",
      "source": [
        "- Encapsulation in Python is achieved through naming conventions, specifically by using underscores to denote the visibility or accessibility of class members."
      ],
      "metadata": {
        "id": "r6s058_FhfEl"
      }
    },
    {
      "cell_type": "markdown",
      "source": [
        "9. What is a constructor in Python."
      ],
      "metadata": {
        "id": "wnV1Z5hztzkB"
      }
    },
    {
      "cell_type": "markdown",
      "source": [
        "- A constructor in Python is a special method used to initialize objects of a class. It is automatically called when an object is created. The constructor's primary purpose is to set up the object's initial state by assigning values to its attributes or performing other necessary setup actions. In Python, the constructor is named __init__."
      ],
      "metadata": {
        "id": "ACgj-Q9Nt5VD"
      }
    },
    {
      "cell_type": "markdown",
      "source": [
        "10.  What are class and static methods in Python."
      ],
      "metadata": {
        "id": "ntQxmL1Hup6I"
      }
    },
    {
      "cell_type": "markdown",
      "source": [
        "- Class methods and static methods are special types of methods that are bound to the class and not the instance of the class. They are defined using decorators @classmethod and @staticmethod respectively."
      ],
      "metadata": {
        "id": "KsVyLAUJwq0F"
      }
    },
    {
      "cell_type": "markdown",
      "source": [
        "11. What is method overloading in Python."
      ],
      "metadata": {
        "id": "Mqa2a145xEEE"
      }
    },
    {
      "cell_type": "markdown",
      "source": [
        "- Method overloading in Python refers to the possibility of defining multiple methods with the same name within a class, as long as their signatures are different."
      ],
      "metadata": {
        "id": "n9HLcf01xbko"
      }
    },
    {
      "cell_type": "markdown",
      "source": [
        "12. What is method overriding in OOP."
      ],
      "metadata": {
        "id": "Yocspd9DxsTa"
      }
    },
    {
      "cell_type": "markdown",
      "source": [
        "- Method overriding in oops is a mechanism where a subclass provides a specific implementation for a method that is already defined in its superclass."
      ],
      "metadata": {
        "id": "3jKPwBH7hWGY"
      }
    },
    {
      "cell_type": "markdown",
      "source": [
        "13. What is a property decorator in Python."
      ],
      "metadata": {
        "id": "XFGcqiqayc7b"
      }
    },
    {
      "cell_type": "markdown",
      "source": [
        "- property decorator is a built-in feature that allows methods to be accessed like attributes. It provides a way to encapsulate the logic for getting, setting, and deleting an attribute within a class, while still allowing access to it using the more natural attribute syntax. This is achieved through the use of the @property decorator, along with optional @<property_name>.setter and @<property_name>.deleter decorators.."
      ],
      "metadata": {
        "id": "iX1NeXk7hWD3"
      }
    },
    {
      "cell_type": "markdown",
      "source": [
        "14. Why is polymorphism important in OOP."
      ],
      "metadata": {
        "id": "mQ4BU1Rh0BNe"
      }
    },
    {
      "cell_type": "markdown",
      "source": [
        "- Polymorphism is crucial in oops because it enables code reuse, flexibility, and extensibility."
      ],
      "metadata": {
        "id": "R4W8_HSqhWBc"
      }
    },
    {
      "cell_type": "markdown",
      "source": [
        "15. What is an abstract class in Python."
      ],
      "metadata": {
        "id": "NwLqObwj0LB8"
      }
    },
    {
      "cell_type": "markdown",
      "source": [
        "- An abstract class in Python is a class that cannot be instantiated directly and is designed to be subclassed. It serves as a blueprint for other classes, defining methods that subclasses must implement. Abstract classes are created using the abc module, specifically the ABC class and the @abstractmethod decorator."
      ],
      "metadata": {
        "id": "iUIrLbPy0aMo"
      }
    },
    {
      "cell_type": "markdown",
      "source": [
        "16. What are the advantages of oops."
      ],
      "metadata": {
        "id": "uHHVidLo0Ihn"
      }
    },
    {
      "cell_type": "markdown",
      "source": [
        "- Enhanced code organization, reusability, maintainability, and flexibility, as well as improved security and scalability."
      ],
      "metadata": {
        "id": "nRl4sMJV0FaK"
      }
    },
    {
      "cell_type": "markdown",
      "source": [
        "17. What is the difference between a class variable and an instance variable."
      ],
      "metadata": {
        "id": "w92erHT9hV_U"
      }
    },
    {
      "cell_type": "markdown",
      "source": [
        "- class variable,also known as a static variable is shared by all instances objects of a class, while an instance variable is unique to each instance."
      ],
      "metadata": {
        "id": "zvalFncehV81"
      }
    },
    {
      "cell_type": "markdown",
      "source": [
        "18. What is multiple inheritance in Python."
      ],
      "metadata": {
        "id": "uWXAQEdfhV6T"
      }
    },
    {
      "cell_type": "markdown",
      "source": [
        "- Multiple inheritance in Python is a feature in which a class can inherit attributes and methods from more than one parent class. This allows for the creation of complex class hierarchies and the reuse of code across different parts of an application. When a class inherits from multiple parent classes, it gains access to all the attributes and methods of those parent classes."
      ],
      "metadata": {
        "id": "AnrZ6pXNhV37"
      }
    },
    {
      "cell_type": "markdown",
      "source": [
        "19. Explain the purpose of ‘’__str__’ and ‘__repr__’ ‘ methods in Python."
      ],
      "metadata": {
        "id": "F-J6B40yhVzk"
      }
    },
    {
      "cell_type": "markdown",
      "source": [
        "- __str__(self):\n",
        "This method is used to create a user-friendly, informal string representation of an object. It's called when you use the str() function on an object or when you use the print() function to display the object. The goal of __str__ is to provide a readable output for the end-user. If __str__ is not defined for a class, Python falls back to using __repr__."
      ],
      "metadata": {
        "id": "5hB860dQhVxA"
      }
    },
    {
      "cell_type": "markdown",
      "source": [
        "- _repr__(self):\n",
        "This method is used to create a developer-friendly, unambiguous string representation of an object. It's called when you use the repr() function on an object or when the object is displayed in the interactive interpreter. The goal of __repr__ is to provide a string that, ideally, can be used to recreate the object. If __repr__ is defined, it's recommended that it returns a string that looks like a valid Python expression."
      ],
      "metadata": {
        "id": "ejBJt-2Z6N0d"
      }
    },
    {
      "cell_type": "markdown",
      "source": [
        "20. What is the significance of the ‘super()’ function in Python."
      ],
      "metadata": {
        "id": "w4EQVyoe3qBi"
      }
    },
    {
      "cell_type": "markdown",
      "source": [
        "- The super() function in Python is used to call methods from a parent class in a subclass. It plays a crucial role in inheritance, allowing subclasses to extend and customize the behavior of their parent classes while reusing the parent's code."
      ],
      "metadata": {
        "id": "b-TW-pXQhVt8"
      }
    },
    {
      "cell_type": "markdown",
      "source": [
        "21. What is the significance of the __del__ method in Python."
      ],
      "metadata": {
        "id": "d-0G9qDY36tC"
      }
    },
    {
      "cell_type": "markdown",
      "source": [
        "- The __del__ method in Python, also known as a destructor, is called when an object is garbage collected. Garbage collection occurs when an object's reference count drops to zero, meaning it is no longer being used by the program. The __del__ method is intended for performing cleanup actions, such as releasing external resources like files or network connections, before the object is deallocated."
      ],
      "metadata": {
        "id": "nbu_yyTf4HK2"
      }
    },
    {
      "cell_type": "markdown",
      "source": [
        "22. What is the difference between @staticmethod and @classmethod in Python."
      ],
      "metadata": {
        "id": "yQLLkb1LhVp7"
      }
    },
    {
      "cell_type": "markdown",
      "source": [
        "- @staticmethod:\n",
        "It is a function defined within a class but does not receive the class or instance as an implicit first argument.\n",
        "It is essentially a regular function that is namespaced within the class.\n",
        "It cannot access or modify class-specific or instance-specific attributes."
      ],
      "metadata": {
        "id": "8RW4zr_z4Wv3"
      }
    },
    {
      "cell_type": "markdown",
      "source": [
        "- @classmethod:\n",
        "It receives the class itself as an implicit first argument, conventionally named cls.\n",
        "It can access and modify class-level attributes.\n",
        "It cannot directly access instance-specific attributes"
      ],
      "metadata": {
        "id": "UJWZBlQv4Yqu"
      }
    },
    {
      "cell_type": "markdown",
      "source": [
        "23. How does polymorphism work in Python with inheritance."
      ],
      "metadata": {
        "id": "RrI4VKZl4d4W"
      }
    },
    {
      "cell_type": "markdown",
      "source": [
        "- Polymorphism, meaning \"many forms,\" enables objects of different classes to respond to the same method call in their own specific ways. When combined with inheritance, polymorphism allows a subclass to redefine a method inherited from its parent class, a process known as method overriding."
      ],
      "metadata": {
        "id": "6QfKwnpy481a"
      }
    },
    {
      "cell_type": "markdown",
      "source": [
        "24. What is method chaining in Python OOP."
      ],
      "metadata": {
        "id": "Uyzb7KOY4-aK"
      }
    },
    {
      "cell_type": "markdown",
      "source": [
        "- Method chaining in Python is a p.rogramming technique used in object-oriented programming where multiple methods are called sequentially on the same object in a single line of code. This is achieved by having each method in the chain return the object instance itself (usually self)"
      ],
      "metadata": {
        "id": "VjIKwnmz5Ddy"
      }
    },
    {
      "cell_type": "markdown",
      "source": [
        "25. What is the purpose of the __call__ method in Python."
      ],
      "metadata": {
        "id": "huX-vgzx5NxQ"
      }
    },
    {
      "cell_type": "markdown",
      "source": [
        "- The __call__ method in Python enables instances of a class to be called like regular functions. When a class defines the __call__ method, it makes its instances \"callable.\" This means you can use parentheses () to execute the code defined within the __call__ method, just as you would call a function."
      ],
      "metadata": {
        "id": "NsqtF78d5YYL"
      }
    },
    {
      "cell_type": "markdown",
      "source": [
        "**PRACTICAL QUESTIONS**"
      ],
      "metadata": {
        "id": "6FRFIJmI5dv7"
      }
    },
    {
      "cell_type": "markdown",
      "source": [
        "1. Create a parent class Animal with a method speak() that prints a generic message. Create a child class Dog\n",
        "that overrides the speak() method to print \"Bark!\""
      ],
      "metadata": {
        "id": "Rcn-PSeZuITL"
      }
    },
    {
      "cell_type": "code",
      "source": [
        "class Animal:\n",
        "  def speak(self):\n",
        "    print(\"Generic animal sound\")\n",
        "\n",
        "class Dog(Animal):\n",
        "  def speak(self):\n",
        "    print(\"Bark!\")\n",
        "generic_animal = Animal()\n",
        "generic_animal.speak()\n",
        "\n",
        "my_dog = Dog()\n",
        "my_dog.speak()"
      ],
      "metadata": {
        "colab": {
          "base_uri": "https://localhost:8080/"
        },
        "id": "lYOUW2heuWv5",
        "outputId": "9912a967-44c5-40ce-84f2-863e680fb040"
      },
      "execution_count": null,
      "outputs": [
        {
          "output_type": "stream",
          "name": "stdout",
          "text": [
            "Generic animal sound\n",
            "Bark!\n"
          ]
        }
      ]
    },
    {
      "cell_type": "markdown",
      "source": [
        "2. Write a program to create an abstract class Shape with a method area(). Derive classes Circle and Rectangle\n",
        "from it and implement the area() method in both"
      ],
      "metadata": {
        "id": "D8yyBrlxuUiD"
      }
    },
    {
      "cell_type": "code",
      "source": [
        "from abc import ABC, abstractmethod\n",
        "import math\n",
        "\n",
        "class Shape(ABC):\n",
        "    @abstractmethod\n",
        "    def area(self):\n",
        "        pass\n",
        "\n",
        "class Circle(Shape):\n",
        "    def __init__(self, radius):\n",
        "        self.radius = radius\n",
        "\n",
        "    def area(self):\n",
        "        return math.pi * self.radius**2\n",
        "\n",
        "class Rectangle(Shape):\n",
        "    def __init__(self, length, width):\n",
        "        self.length = length\n",
        "        self.width = width\n",
        "\n",
        "    def area(self):\n",
        "        return self.length * self.width"
      ],
      "metadata": {
        "id": "vZamYeNhu9Xr"
      },
      "execution_count": null,
      "outputs": []
    },
    {
      "cell_type": "markdown",
      "source": [
        "3.  Implement a multi-level inheritance scenario where a class Vehicle has an attribute type. Derive a class Car\n",
        "and further derive a class ElectricCar that adds a battery attribute."
      ],
      "metadata": {
        "id": "KToAr5D7hVl7"
      }
    },
    {
      "cell_type": "code",
      "source": [
        "class Vehicle:\n",
        "    def __init__(self, vehicle_type):\n",
        "        self.type = vehicle_type\n",
        "\n",
        "class Car(Vehicle):\n",
        "    def __init__(self, car_type, model):\n",
        "        super().__init__(car_type)\n",
        "        self.model = model\n",
        "\n",
        "class ElectricCar(Car):\n",
        "    def __init__(self, car_type, model, battery_capacity):\n",
        "        super().__init__(car_type, model)\n",
        "        self.battery = battery_capacity\n",
        "\n",
        "my_vehicle = Vehicle(\"Sedan\")\n",
        "print(f\"Vehicle type: {my_vehicle.type}\")\n",
        "\n",
        "my_car = Car(\"Sedan\", \"Toyota Camry\")\n",
        "print(f\"Car type: {my_car.type}, Model: {my_car.model}\")\n",
        "\n",
        "my_electric_car = ElectricCar(\"Electric Sedan\", \"Tesla Model S\", \"100 kWh\")\n",
        "print(f\"Electric Car type: {my_electric_car.type}, Model: {my_electric_car.model}, Battery: {my_electric_car.battery}\")"
      ],
      "metadata": {
        "colab": {
          "base_uri": "https://localhost:8080/"
        },
        "id": "kr19Na7Eviah",
        "outputId": "33441e70-f06c-4095-c6ef-19adb8ff33fa"
      },
      "execution_count": null,
      "outputs": [
        {
          "output_type": "stream",
          "name": "stdout",
          "text": [
            "Vehicle type: Sedan\n",
            "Car type: Sedan, Model: Toyota Camry\n",
            "Electric Car type: Electric Sedan, Model: Tesla Model S, Battery: 100 kWh\n"
          ]
        }
      ]
    },
    {
      "cell_type": "markdown",
      "source": [
        "4. Demonstrate polymorphism by creating a base class Bird with a method fly(). Create two derived classes\n",
        "Sparrow and Penguin that override the fly() method."
      ],
      "metadata": {
        "id": "XiZj8i8Uv0Y4"
      }
    },
    {
      "cell_type": "code",
      "source": [
        "class Bird:\n",
        "    def fly(self):\n",
        "        print(\"I can fly!\")\n",
        "\n",
        "class Sparrow(Bird):\n",
        "    def fly(self):\n",
        "        print(\"I fly with my light wings.\")\n",
        "\n",
        "class Penguin(Bird):\n",
        "    def fly(self):\n",
        "        print(\"I cannot fly, but I can swim!\")\n",
        "\n",
        "generic_bird = Bird()\n",
        "generic_bird.fly()\n",
        "\n",
        "sparrow = Sparrow()\n",
        "sparrow.fly()\n",
        "\n",
        "penguin = Penguin()\n",
        "penguin.fly()"
      ],
      "metadata": {
        "colab": {
          "base_uri": "https://localhost:8080/"
        },
        "id": "I6fZRVNEv6b-",
        "outputId": "b32d32c0-ce3e-4b1c-bfa9-5666e36baf6a"
      },
      "execution_count": null,
      "outputs": [
        {
          "output_type": "stream",
          "name": "stdout",
          "text": [
            "I can fly!\n",
            "I fly with my light wings.\n",
            "I cannot fly, but I can swim!\n"
          ]
        }
      ]
    },
    {
      "cell_type": "markdown",
      "source": [
        "5. Write a program to demonstrate encapsulation by creating a class BankAccount with private attributes\n",
        "balance and methods to deposit, withdraw, and check balance."
      ],
      "metadata": {
        "id": "sM4_ciybwZuJ"
      }
    },
    {
      "cell_type": "code",
      "source": [
        "class BankAccount:\n",
        "    def __init__(self, initial_balance=0):\n",
        "        self.__balance = initial_balance\n",
        "\n",
        "    def deposit(self, amount):\n",
        "        if amount > 0:\n",
        "            self.__balance += amount\n",
        "            print(f\"Deposited: ${amount}. New balance: ${self.__balance}\")\n",
        "        else:\n",
        "            print(\"Deposit amount must be positive.\")\n",
        "\n",
        "    def withdraw(self, amount):\n",
        "        if amount > 0 and amount <= self.__balance:\n",
        "            self.__balance -= amount\n",
        "            print(f\"Withdrew: ${amount}. New balance: ${self.__balance}\")\n",
        "        elif amount > self.__balance:\n",
        "            print(\"Insufficient funds.\")\n",
        "        else:\n",
        "            print(\"Withdrawal amount must be positive.\")\n",
        "\n",
        "    def check_balance(self):\n",
        "        print(f\"Current balance: ${self.__balance}\")\n",
        "account = BankAccount(1000)\n",
        "account.check_balance()\n",
        "account.deposit(500)\n",
        "account.withdraw(200)\n",
        "account.check_balance()\n",
        "account.withdraw(1500)\n",
        "account.check_balance()"
      ],
      "metadata": {
        "colab": {
          "base_uri": "https://localhost:8080/"
        },
        "id": "xdt0oP4lwRzc",
        "outputId": "64be2276-f033-426a-f347-93d51f8a4826"
      },
      "execution_count": null,
      "outputs": [
        {
          "output_type": "stream",
          "name": "stdout",
          "text": [
            "Current balance: $1000\n",
            "Deposited: $500. New balance: $1500\n",
            "Withdrew: $200. New balance: $1300\n",
            "Current balance: $1300\n",
            "Insufficient funds.\n",
            "Current balance: $1300\n"
          ]
        }
      ]
    },
    {
      "cell_type": "markdown",
      "source": [
        "6.  Demonstrate runtime polymorphism using a method play() in a base class Instrument. Derive classes Guitar\n",
        "and Piano that implement their own version of play()."
      ],
      "metadata": {
        "id": "kfzuY_VCwzSQ"
      }
    },
    {
      "cell_type": "code",
      "source": [
        "class Instrument:\n",
        "    def play(self):\n",
        "        print(\"Playing a generic instrument sound.\")\n",
        "\n",
        "class Guitar(Instrument):\n",
        "    def play(self):\n",
        "        print(\"Strumming the guitar strings.\")\n",
        "\n",
        "class Piano(Instrument):\n",
        "    def play(self):\n",
        "        print(\"Playing the piano keys.\")\n",
        "\n",
        "generic_instrument = Instrument()\n",
        "generic_instrument.play()\n",
        "\n",
        "guitar = Guitar()\n",
        "guitar.play()\n",
        "\n",
        "piano = Piano()\n",
        "piano.play()"
      ],
      "metadata": {
        "colab": {
          "base_uri": "https://localhost:8080/"
        },
        "id": "OIms-42ww4LX",
        "outputId": "029f03f7-db10-4b42-d212-41212ff37bbb"
      },
      "execution_count": null,
      "outputs": [
        {
          "output_type": "stream",
          "name": "stdout",
          "text": [
            "Playing a generic instrument sound.\n",
            "Strumming the guitar strings.\n",
            "Playing the piano keys.\n"
          ]
        }
      ]
    },
    {
      "cell_type": "markdown",
      "source": [
        "7. Create a class MathOperations with a class method add_numbers() to add two numbers and a static\n",
        "method subtract_numbers() to subtract two numbers."
      ],
      "metadata": {
        "id": "_WeEng9ExBIP"
      }
    },
    {
      "cell_type": "code",
      "source": [
        "class MathOperations:\n",
        "    @classmethod\n",
        "    def add_numbers(cls, num1, num2):\n",
        "        return num1 + num2\n",
        "\n",
        "    @staticmethod\n",
        "    def subtract_numbers(num1, num2):\n",
        "        return num1 - num2\n",
        "\n",
        "sum_result = MathOperations.add_numbers(10, 5)\n",
        "print(f\"Sum: {sum_result}\")\n",
        "\n",
        "difference_result = MathOperations.subtract_numbers(20, 7)\n",
        "print(f\"Difference: {difference_result}\")\n"
      ],
      "metadata": {
        "colab": {
          "base_uri": "https://localhost:8080/"
        },
        "id": "0I5Mg-2TxHi2",
        "outputId": "8c1de500-ee9f-4a79-e03f-2e84e8add911"
      },
      "execution_count": null,
      "outputs": [
        {
          "output_type": "stream",
          "name": "stdout",
          "text": [
            "Sum: 15\n",
            "Difference: 13\n"
          ]
        }
      ]
    },
    {
      "cell_type": "markdown",
      "source": [
        "8.  Implement a class Person with a class method to count the total number of persons created."
      ],
      "metadata": {
        "id": "MLGrsYNaxTAB"
      }
    },
    {
      "cell_type": "code",
      "source": [
        "class Person:\n",
        "  count = 0\n",
        "\n",
        "  def __init__(self, name):\n",
        "    self.name = name\n",
        "    Person.count += 1\n",
        "\n",
        "  @classmethod\n",
        "  def total_persons(cls):\n",
        "    return cls.count\n",
        "\n",
        "person1 = Person(\"Alice\")\n",
        "person2 = Person(\"Bob\")\n",
        "person3 = Person(\"Charlie\")\n",
        "\n",
        "print(f\"Total number of persons created: {Person.total_persons()}\")"
      ],
      "metadata": {
        "colab": {
          "base_uri": "https://localhost:8080/"
        },
        "id": "OX8tqeqZxalK",
        "outputId": "3cb62aee-7860-46bf-f6b7-c47243bdcd3c"
      },
      "execution_count": null,
      "outputs": [
        {
          "output_type": "stream",
          "name": "stdout",
          "text": [
            "Total number of persons created: 3\n"
          ]
        }
      ]
    },
    {
      "cell_type": "markdown",
      "source": [
        "9. Write a class Fraction with attributes numerator and denominator. Override the str method to display the\n",
        "fraction as \"numerator/denominator\"."
      ],
      "metadata": {
        "id": "o4PbuAUUxn3t"
      }
    },
    {
      "cell_type": "code",
      "source": [
        "class Fraction:\n",
        "  def __init__(self, numerator, denominator):\n",
        "    self.numerator = numerator\n",
        "    self.denominator = denominator\n",
        "\n",
        "  def __str__(self):\n",
        "    return f\"{self.numerator}/{self.denominator}\"\n",
        "\n",
        "fraction1 = Fraction(3, 4)\n",
        "print(fraction1)\n",
        "\n",
        "fraction2 = Fraction(1, 2)\n",
        "fraction2"
      ],
      "metadata": {
        "colab": {
          "base_uri": "https://localhost:8080/"
        },
        "id": "45u9yr65xwad",
        "outputId": "e7fd2a63-93bb-4db5-b3d7-0c59a4391170"
      },
      "execution_count": null,
      "outputs": [
        {
          "output_type": "stream",
          "name": "stdout",
          "text": [
            "3/4\n"
          ]
        },
        {
          "output_type": "execute_result",
          "data": {
            "text/plain": [
              "<__main__.Fraction at 0x789e396c53d0>"
            ]
          },
          "metadata": {},
          "execution_count": 15
        }
      ]
    },
    {
      "cell_type": "markdown",
      "source": [
        "10. Demonstrate operator overloading by creating a class Vector and overriding the add method to add two\n",
        "vectors."
      ],
      "metadata": {
        "id": "mkB4QwkTx7YC"
      }
    },
    {
      "cell_type": "code",
      "source": [
        "class Vector:\n",
        "    def __init__(self, x, y):\n",
        "        self.x = x\n",
        "        self.y = y\n",
        "\n",
        "    def __add__(self, other):\n",
        "        if isinstance(other, Vector):\n",
        "            return Vector(self.x + other.x, self.y + other.y)\n",
        "        else:\n",
        "            raise TypeError(\"Operand must be a Vector\")\n",
        "\n",
        "    def __str__(self):\n",
        "        return f\"({self.x}, {self.y})\"\n",
        "v1 = Vector(2, 3)\n",
        "v2 = Vector(4, 5)\n",
        "\n",
        "v3 = v1 + v2\n",
        "print(f\"Vector 1: {v1}\")\n",
        "print(f\"Vector 2: {v2}\")\n",
        "print(f\"Sum of vectors: {v3}\")"
      ],
      "metadata": {
        "colab": {
          "base_uri": "https://localhost:8080/"
        },
        "id": "OduXYwMdx_Ze",
        "outputId": "3280cc28-7d41-479a-f431-b99df6061045"
      },
      "execution_count": null,
      "outputs": [
        {
          "output_type": "stream",
          "name": "stdout",
          "text": [
            "Vector 1: (2, 3)\n",
            "Vector 2: (4, 5)\n",
            "Sum of vectors: (6, 8)\n"
          ]
        }
      ]
    },
    {
      "cell_type": "markdown",
      "source": [
        "11. Create a class Person with attributes name and age. Add a method greet() that prints \"Hello, my name is\n",
        "{name} and I am {age} years old.\"\n",
        "\n",
        "\n"
      ],
      "metadata": {
        "id": "UKQ3iPssyITO"
      }
    },
    {
      "cell_type": "code",
      "source": [
        "class Person:\n",
        "    def __init__(self, name, age):\n",
        "        self.name = name\n",
        "        self.age = age\n",
        "\n",
        "    def greet(self):\n",
        "        print(f\"Hello, my name is {self.name} and I am {self.age} years old.\")\n",
        "\n",
        "person = Person(\"Faiz\", 23)\n",
        "person.greet()"
      ],
      "metadata": {
        "colab": {
          "base_uri": "https://localhost:8080/"
        },
        "id": "t1aZ28M8yO2d",
        "outputId": "129f04cb-e0f1-4db0-ab5d-b505ce4400c3"
      },
      "execution_count": null,
      "outputs": [
        {
          "output_type": "stream",
          "name": "stdout",
          "text": [
            "Hello, my name is Faiz and I am 23 years old.\n"
          ]
        }
      ]
    },
    {
      "cell_type": "markdown",
      "source": [
        "12.  Implement a class Student with attributes name and grades. Create a method average_grade() to compute\n",
        "the average of the grades."
      ],
      "metadata": {
        "id": "v9uks6fUyetx"
      }
    },
    {
      "cell_type": "code",
      "source": [
        "class Student:\n",
        "    def __init__(self, name, grades):\n",
        "        self.name = name\n",
        "        self.grades = grades\n",
        "    def average_grade(self):\n",
        "        if not self.grades:\n",
        "            return 0\n",
        "        return sum(self.grades) / len(self.grades)\n",
        "student1 = Student(\"ajay\", [85, 90, 78, 92])\n",
        "print(f\"{student1.name}'s grades: {student1.grades}\")\n",
        "print(f\"{student1.name}'s average grade: {student1.average_grade()}\")\n",
        "\n",
        "student2 = Student(\"Bijay\", [70, 75, 80])\n",
        "print(f\"{student2.name}'s grades: {student2.grades}\")\n",
        "print(f\"{student2.name}'s average grade: {student2.average_grade()}\")\n",
        "\n",
        "student3 = Student(\"sanjay\", [])\n",
        "print(f\"{student3.name}'s grades: {student3.grades}\")\n",
        "print(f\"{student3.name}'s average grade: {student3.average_grade()}\")"
      ],
      "metadata": {
        "colab": {
          "base_uri": "https://localhost:8080/"
        },
        "id": "-D8RvRWjyiuB",
        "outputId": "dac99f03-6745-4105-fcde-bc8074b24a5f"
      },
      "execution_count": null,
      "outputs": [
        {
          "output_type": "stream",
          "name": "stdout",
          "text": [
            "ajay's grades: [85, 90, 78, 92]\n",
            "ajay's average grade: 86.25\n",
            "Bijay's grades: [70, 75, 80]\n",
            "Bijay's average grade: 75.0\n",
            "sanjay's grades: []\n",
            "sanjay's average grade: 0\n"
          ]
        }
      ]
    },
    {
      "cell_type": "markdown",
      "source": [
        "13. Create a class Rectangle with methods set_dimensions() to set the dimensions and area() to calculate the\n",
        "area."
      ],
      "metadata": {
        "id": "sa0n5iz1y-U1"
      }
    },
    {
      "cell_type": "code",
      "source": [
        "class Rectangle:\n",
        "    def __init__(self):\n",
        "        self.length = 0\n",
        "        self.width = 0\n",
        "\n",
        "    def set_dimensions(self, length, width):\n",
        "        if length >= 0 and width >= 0:\n",
        "            self.length = length\n",
        "            self.width = width\n",
        "        else:\n",
        "            print(\"Dimensions must be non-negative.\")\n",
        "\n",
        "    def area(self):\n",
        "        return self.length * self.width\n",
        "my_rectangle = Rectangle()\n",
        "my_rectangle.set_dimensions(10, 5)\n",
        "print(f\"Area of the rectangle: {my_rectangle.area()}\")\n",
        "\n",
        "another_rectangle = Rectangle()\n",
        "another_rectangle.set_dimensions(7, 3)\n",
        "print(f\"Area of the other rectangle: {another_rectangle.area()}\")\n",
        "\n",
        "invalid_rectangle = Rectangle()\n",
        "invalid_rectangle.set_dimensions(-2, 5)\n",
        "print(f\"Area of the invalid rectangle: {invalid_rectangle.area()}\")"
      ],
      "metadata": {
        "colab": {
          "base_uri": "https://localhost:8080/"
        },
        "id": "S-jrPH5hzB2p",
        "outputId": "efd4579e-7427-4747-d1f3-45282d1c1249"
      },
      "execution_count": null,
      "outputs": [
        {
          "output_type": "stream",
          "name": "stdout",
          "text": [
            "Area of the rectangle: 50\n",
            "Area of the other rectangle: 21\n",
            "Dimensions must be non-negative.\n",
            "Area of the invalid rectangle: 0\n"
          ]
        }
      ]
    },
    {
      "cell_type": "markdown",
      "source": [
        "14.  Create a class Employee with a method calculate_salary() that computes the salary based on hours worked\n",
        "and hourly rate. Create a derived class Manager that adds a bonus to the salary."
      ],
      "metadata": {
        "id": "BqTChUlZzQK3"
      }
    },
    {
      "cell_type": "code",
      "source": [
        "class Employee:\n",
        "  def __init__(self, hours_worked, hourly_rate):\n",
        "    self.hours_worked = hours_worked\n",
        "    self.hourly_rate = hourly_rate\n",
        "\n",
        "  def calculate_salary(self):\n",
        "    return self.hours_worked * self.hourly_rate\n",
        "\n",
        "class Manager(Employee):\n",
        "  def __init__(self, hours_worked, hourly_rate, bonus):\n",
        "    super().__init__(hours_worked, hourly_rate)\n",
        "    self.bonus = bonus\n",
        "\n",
        "  def calculate_salary(self):\n",
        "    base_salary = super().calculate_salary()\n",
        "    return base_salary + self.bonus\n",
        "employee = Employee(40, 20)\n",
        "print(f\"Employee Salary: ${employee.calculate_salary()}\")\n",
        "\n",
        "manager = Manager(40, 25, 500)\n",
        "print(f\"Manager Salary: ${manager.calculate_salary()}\")"
      ],
      "metadata": {
        "colab": {
          "base_uri": "https://localhost:8080/"
        },
        "id": "w5A3ewkazT6R",
        "outputId": "2010454c-6df0-4014-a699-8959ecc2c29e"
      },
      "execution_count": null,
      "outputs": [
        {
          "output_type": "stream",
          "name": "stdout",
          "text": [
            "Employee Salary: $800\n",
            "Manager Salary: $1500\n"
          ]
        }
      ]
    },
    {
      "cell_type": "markdown",
      "source": [
        "15. Create a class Product with attributes name, price, and quantity. Implement a method total_price() that\n",
        "calculates the total price of the product.\n",
        "\n",
        "\n"
      ],
      "metadata": {
        "id": "Ae1j42klzeJA"
      }
    },
    {
      "cell_type": "code",
      "source": [
        "class Product:\n",
        "  def __init__(self, name, price, quantity):\n",
        "    self.name = name\n",
        "    self.price = price\n",
        "    self.quantity = quantity\n",
        "\n",
        "  def total_price(self):\n",
        "    return self.price * self.quantity\n",
        "product1 = Product(\"Laptop\", 1200, 2)\n",
        "print(f\"Total price of {product1.name}: ${product1.total_price()}\")\n",
        "\n",
        "product2 = Product(\"Mouse\", 25, 10)\n",
        "print(f\"Total price of {product2.name}: ${product2.total_price()}\")"
      ],
      "metadata": {
        "colab": {
          "base_uri": "https://localhost:8080/"
        },
        "id": "0ihC-PlnzjNH",
        "outputId": "f22ae767-b266-4117-f7a8-08015faa7545"
      },
      "execution_count": null,
      "outputs": [
        {
          "output_type": "stream",
          "name": "stdout",
          "text": [
            "Total price of Laptop: $2400\n",
            "Total price of Mouse: $250\n"
          ]
        }
      ]
    },
    {
      "cell_type": "markdown",
      "source": [
        "16.  Create a class Animal with an abstract method sound(). Create two derived classes Cow and Sheep that\n",
        "implement the sound() method."
      ],
      "metadata": {
        "id": "YXedkkwjz7nV"
      }
    },
    {
      "cell_type": "code",
      "source": [
        "class Animal(ABC):\n",
        "    @abstractmethod\n",
        "    def sound(self):\n",
        "        pass\n",
        "\n",
        "class Cow(Animal):\n",
        "    def sound(self):\n",
        "        return \"Moo\"\n",
        "\n",
        "class Sheep(Animal):\n",
        "    def sound(self):\n",
        "        return \"Baa\"\n",
        "cow = Cow()\n",
        "sheep = Sheep()\n",
        "\n",
        "print(f\"Cow says: {cow.sound()}\")\n",
        "print(f\"Sheep says: {sheep.sound()}\")"
      ],
      "metadata": {
        "colab": {
          "base_uri": "https://localhost:8080/"
        },
        "id": "XvlaAb500ATu",
        "outputId": "9a74ff81-0ae0-4864-f5aa-395e1933b508"
      },
      "execution_count": null,
      "outputs": [
        {
          "output_type": "stream",
          "name": "stdout",
          "text": [
            "Cow says: Moo\n",
            "Sheep says: Baa\n"
          ]
        }
      ]
    },
    {
      "cell_type": "markdown",
      "source": [
        "17.  Create a class Book with attributes title, author, and year_published. Add a method get_book_info() that\n",
        "returns a formatted string with the book's details."
      ],
      "metadata": {
        "id": "8U9qM7Rp0Jy_"
      }
    },
    {
      "cell_type": "code",
      "source": [
        "class Book:\n",
        "    def __init__(self, title, author, year_published):\n",
        "        self.title = title\n",
        "        self.author = author\n",
        "        self.year_published = year_published\n",
        "\n",
        "    def get_book_info(self):\n",
        "        return f\"Title: {self.title}, Author: {self.author}, Year Published: {self.year_published}\"\n",
        "\n",
        "book1 = Book(\"The Hitchhiker's Guide to the Galaxy\", \"Douglas Adams\", 1979)\n",
        "print(book1.get_book_info())\n",
        "\n",
        "book2 = Book(\"Pride and Prejudice\", \"Jane Austen\", 1813)\n",
        "print(book2.get_book_info())"
      ],
      "metadata": {
        "colab": {
          "base_uri": "https://localhost:8080/"
        },
        "id": "G4QmHEMQ0Otb",
        "outputId": "35784d07-127f-42ee-a621-68f9ccddd900"
      },
      "execution_count": null,
      "outputs": [
        {
          "output_type": "stream",
          "name": "stdout",
          "text": [
            "Title: The Hitchhiker's Guide to the Galaxy, Author: Douglas Adams, Year Published: 1979\n",
            "Title: Pride and Prejudice, Author: Jane Austen, Year Published: 1813\n"
          ]
        }
      ]
    },
    {
      "cell_type": "markdown",
      "source": [
        "18. Create a class House with attributes address and price. Create a derived class Mansion that adds an\n",
        "attribute number_of_rooms."
      ],
      "metadata": {
        "id": "jyz9yWI50bf9"
      }
    },
    {
      "cell_type": "code",
      "source": [
        "class House:\n",
        "    def __init__(self, address, price):\n",
        "        self.address = address\n",
        "        self.price = price\n",
        "\n",
        "class Mansion(House):\n",
        "    def __init__(self, address, price, number_of_rooms):\n",
        "        super().__init__(address, price)\n",
        "        self.number_of_rooms = number_of_rooms\n",
        "\n",
        "my_house = House(\"123 Main St\", 250000)\n",
        "print(f\"House at {my_house.address} costs ${my_house.price}\")\n",
        "\n",
        "my_mansion = Mansion(\"456 Oak Ave\", 1500000, 20)\n",
        "print(f\"Mansion at {my_mansion.address} costs ${my_mansion.price} and has {my_mansion.number_of_rooms} rooms.\")"
      ],
      "metadata": {
        "colab": {
          "base_uri": "https://localhost:8080/"
        },
        "id": "biqng-u10iC9",
        "outputId": "f4e47819-6a80-4e78-9bad-894e09770248"
      },
      "execution_count": null,
      "outputs": [
        {
          "output_type": "stream",
          "name": "stdout",
          "text": [
            "House at 123 Main St costs $250000\n",
            "Mansion at 456 Oak Ave costs $1500000 and has 20 rooms.\n"
          ]
        }
      ]
    }
  ]
}